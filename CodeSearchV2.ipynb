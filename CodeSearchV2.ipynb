{
 "cells": [
  {
   "cell_type": "markdown",
   "id": "b66b2295",
   "metadata": {},
   "source": [
    "## Imports"
   ]
  },
  {
   "cell_type": "code",
   "execution_count": null,
   "id": "0c7b3501",
   "metadata": {},
   "outputs": [],
   "source": [
    "pip install datasets"
   ]
  },
  {
   "cell_type": "code",
   "execution_count": 2,
   "id": "bea02f75",
   "metadata": {},
   "outputs": [],
   "source": [
    "from datasets import load_dataset\n",
    "dataset = load_dataset(\"code_search_net\", \"ruby\")"
   ]
  },
  {
   "cell_type": "code",
   "execution_count": null,
   "id": "55c06b9f",
   "metadata": {},
   "outputs": [],
   "source": [
    "!pip install faiss-cpu\n",
    "!pip install -U sentence-transformers"
   ]
  },
  {
   "cell_type": "code",
   "execution_count": 4,
   "id": "29006d00",
   "metadata": {},
   "outputs": [],
   "source": [
    "import numpy as np\n",
    "import torch\n",
    "import os\n",
    "import pandas as pd\n",
    "import faiss\n",
    "import time\n",
    "from sentence_transformers import SentenceTransformer"
   ]
  },
  {
   "cell_type": "markdown",
   "id": "f9c73f85",
   "metadata": {},
   "source": [
    "## Semantic Search"
   ]
  },
  {
   "cell_type": "code",
   "execution_count": null,
   "id": "cb5471bc",
   "metadata": {},
   "outputs": [],
   "source": [
    "documents = dataset['train']['func_documentation_string']"
   ]
  },
  {
   "cell_type": "code",
   "execution_count": 6,
   "id": "4c8c327b",
   "metadata": {},
   "outputs": [],
   "source": [
    "model = SentenceTransformer('BAAI/bge-base-en-v1.5')"
   ]
  },
  {
   "cell_type": "code",
   "execution_count": 7,
   "id": "12e0c5d6",
   "metadata": {},
   "outputs": [
    {
     "data": {
      "text/plain": [
       "SentenceTransformer(\n",
       "  (0): Transformer({'max_seq_length': 512, 'do_lower_case': True}) with Transformer model: BertModel \n",
       "  (1): Pooling({'word_embedding_dimension': 768, 'pooling_mode_cls_token': True, 'pooling_mode_mean_tokens': False, 'pooling_mode_max_tokens': False, 'pooling_mode_mean_sqrt_len_tokens': False})\n",
       "  (2): Normalize()\n",
       ")"
      ]
     },
     "execution_count": 7,
     "metadata": {},
     "output_type": "execute_result"
    }
   ],
   "source": [
    "model"
   ]
  },
  {
   "cell_type": "code",
   "execution_count": null,
   "id": "7c0da703",
   "metadata": {},
   "outputs": [],
   "source": [
    "encoded_data = model.encode(documents)"
   ]
  },
  {
   "cell_type": "code",
   "execution_count": 9,
   "id": "22b98a36",
   "metadata": {},
   "outputs": [],
   "source": [
    "index = faiss.IndexIDMap(faiss.IndexFlatIP(model.get_sentence_embedding_dimension()))\n",
    "index.add_with_ids(encoded_data, np.array(range(0, len(documents))))"
   ]
  },
  {
   "cell_type": "code",
   "execution_count": 10,
   "id": "2e4c2015",
   "metadata": {},
   "outputs": [],
   "source": [
    "#serializing index to export it across different host\n",
    "faiss.write_index(index, 'sample_documents')\n",
    "\n",
    "#de-serializing the index\n",
    "index = faiss.read_index('sample_documents')"
   ]
  },
  {
   "cell_type": "code",
   "execution_count": 11,
   "id": "36615516",
   "metadata": {},
   "outputs": [],
   "source": [
    "def semantic_search(query):\n",
    "    t = time.time()\n",
    "    query_vector = model.encode([query])\n",
    "    # Search for top k results\n",
    "    k = 100\n",
    "    top_k = index.search(query_vector, k)\n",
    "\n",
    "    return top_k[1].tolist()[0]"
   ]
  },
  {
   "cell_type": "markdown",
   "id": "9c1d0897",
   "metadata": {},
   "source": [
    "## TF-IDF Search"
   ]
  },
  {
   "cell_type": "code",
   "execution_count": 13,
   "id": "bf5f4014",
   "metadata": {},
   "outputs": [],
   "source": [
    "func_tokens = dataset['train']['func_code_tokens']"
   ]
  },
  {
   "cell_type": "code",
   "execution_count": 14,
   "id": "691623f0",
   "metadata": {},
   "outputs": [],
   "source": [
    "from nltk.util import bigrams\n",
    "\n",
    "def generate_bigrams(token_list):\n",
    "    return [\" \".join(bigram) for bigram in list(bigrams(token_list))]"
   ]
  },
  {
   "cell_type": "code",
   "execution_count": 15,
   "id": "1ac4769e",
   "metadata": {},
   "outputs": [],
   "source": [
    "def inverted_index(code_tokens):\n",
    "    inverted_index = {}\n",
    "    \n",
    "    for i in range(len(code_tokens)):\n",
    "        code = code_tokens[i]\n",
    "        bi = generate_bigrams(code)\n",
    "        all_token = code + bi\n",
    "        for token in all_token:\n",
    "            if token in inverted_index.keys():\n",
    "                inverted_index[token].append(i)\n",
    "            else:\n",
    "                inverted_index[token] = [i]\n",
    "    \n",
    "    return inverted_index"
   ]
  },
  {
   "cell_type": "code",
   "execution_count": 16,
   "id": "ad145a8a",
   "metadata": {},
   "outputs": [],
   "source": [
    "inverted_ind = inverted_index(func_tokens)"
   ]
  },
  {
   "cell_type": "code",
   "execution_count": 17,
   "id": "faa5b6f3",
   "metadata": {},
   "outputs": [],
   "source": [
    "import math\n",
    "total_documents = len(func_tokens)\n",
    "\n",
    "def compute_tfidf(word, index):\n",
    "    \n",
    "    documents_with_term = len(inverted_ind[word])\n",
    "    \n",
    "    inner = total_documents/documents_with_term\n",
    "\n",
    "    doc_length = len(func_tokens[index])\n",
    "    \n",
    "    document_frequency = inverted_ind[word].count(index)\n",
    "    \n",
    "    total = (document_frequency / doc_length) * math.log(inner)\n",
    "    return total"
   ]
  },
  {
   "cell_type": "code",
   "execution_count": 18,
   "id": "39eab363",
   "metadata": {},
   "outputs": [],
   "source": [
    "def tfidf_search(user_input):\n",
    "    \n",
    "    import numpy as np\n",
    "    \n",
    "    track_docs = [0] * len(func_tokens)\n",
    "    \n",
    "    for word in (user_input.split() + generate_bigrams(user_input.split())):\n",
    "        if word in inverted_ind:\n",
    "            for doc_index in inverted_ind[word]:\n",
    "                track_docs[doc_index] += compute_tfidf(word, doc_index)\n",
    "                \n",
    "    sorted_idx = list(np.argsort(track_docs)[::-1])[0:100]\n",
    "\n",
    "    return sorted_idx"
   ]
  },
  {
   "cell_type": "markdown",
   "id": "fdc699e7",
   "metadata": {},
   "source": [
    "## Combined Search"
   ]
  },
  {
   "cell_type": "code",
   "execution_count": 20,
   "id": "f7c4b13f",
   "metadata": {},
   "outputs": [],
   "source": [
    "def search_results(user_input):\n",
    "    \n",
    "    s = semantic_search(user_input)\n",
    "    t = tfidf_search(user_input)\n",
    "    overlap_results = list(set(s) & set(t))\n",
    "    \n",
    "    top_10_docs = overlap_results\n",
    "        \n",
    "    while len(top_10_docs) < 10:\n",
    "        for i in s:\n",
    "            if i not in top_10_docs:\n",
    "                top_10_docs.append(i)\n",
    "    \n",
    "    if len(top_10_docs) > 10:\n",
    "        top_10_docs = overlap_results[:10]\n",
    "        \n",
    "    function_name = []\n",
    "    doc_string = []\n",
    "    for i in top_10_docs:\n",
    "        function_name.append(dataset['train']['func_name'][i])\n",
    "        doc_string.append(dataset['train']['func_documentation_string'][i])\n",
    "        \n",
    "    results_df = pd.DataFrame({'Document': top_10_docs, 'Function': function_name, 'Documentation': doc_string})\n",
    "    \n",
    "    return results_df"
   ]
  },
  {
   "cell_type": "markdown",
   "id": "f0cbcc08",
   "metadata": {},
   "source": [
    "## Search Results"
   ]
  },
  {
   "cell_type": "code",
   "execution_count": 21,
   "id": "efc7eb97",
   "metadata": {},
   "outputs": [
    {
     "data": {
      "text/html": [
       "<div>\n",
       "<style scoped>\n",
       "    .dataframe tbody tr th:only-of-type {\n",
       "        vertical-align: middle;\n",
       "    }\n",
       "\n",
       "    .dataframe tbody tr th {\n",
       "        vertical-align: top;\n",
       "    }\n",
       "\n",
       "    .dataframe thead th {\n",
       "        text-align: right;\n",
       "    }\n",
       "</style>\n",
       "<table border=\"1\" class=\"dataframe\">\n",
       "  <thead>\n",
       "    <tr style=\"text-align: right;\">\n",
       "      <th></th>\n",
       "      <th>Document</th>\n",
       "      <th>Function</th>\n",
       "      <th>Documentation</th>\n",
       "    </tr>\n",
       "  </thead>\n",
       "  <tbody>\n",
       "    <tr>\n",
       "      <th>0</th>\n",
       "      <td>34424</td>\n",
       "      <td>Pandata.DataFormatter.custom_sort</td>\n",
       "      <td>Sorts alphabetically ignoring the initial 'The...</td>\n",
       "    </tr>\n",
       "    <tr>\n",
       "      <th>1</th>\n",
       "      <td>3890</td>\n",
       "      <td>Twitter.Utils.flat_pmap</td>\n",
       "      <td>Returns a new array with the concatenated resu...</td>\n",
       "    </tr>\n",
       "    <tr>\n",
       "      <th>2</th>\n",
       "      <td>3891</td>\n",
       "      <td>Twitter.Utils.pmap</td>\n",
       "      <td>Returns a new array with the results of runnin...</td>\n",
       "    </tr>\n",
       "    <tr>\n",
       "      <th>3</th>\n",
       "      <td>38981</td>\n",
       "      <td>TeradataExtractor.Query.enumerable</td>\n",
       "      <td>returns an enumerable, each element of which i...</td>\n",
       "    </tr>\n",
       "    <tr>\n",
       "      <th>4</th>\n",
       "      <td>43259</td>\n",
       "      <td>Doublylinkedlist.Doublylinkedlist.each</td>\n",
       "      <td>Método para que la lista sea enumerable</td>\n",
       "    </tr>\n",
       "    <tr>\n",
       "      <th>5</th>\n",
       "      <td>42390</td>\n",
       "      <td>Yargi.ElementSet.grep</td>\n",
       "      <td>See Enumerable.grep</td>\n",
       "    </tr>\n",
       "    <tr>\n",
       "      <th>6</th>\n",
       "      <td>42720</td>\n",
       "      <td>MMETools.Enumerable.classify</td>\n",
       "      <td>Interessant iterador que classifica un enumera...</td>\n",
       "    </tr>\n",
       "    <tr>\n",
       "      <th>7</th>\n",
       "      <td>30079</td>\n",
       "      <td>Wbem.WsmanClient.each_instance</td>\n",
       "      <td>Enumerate instances</td>\n",
       "    </tr>\n",
       "    <tr>\n",
       "      <th>8</th>\n",
       "      <td>46812</td>\n",
       "      <td>StixSchemaSpy.SimpleType.enumeration_values</td>\n",
       "      <td>Returns the list of values for this enumeration</td>\n",
       "    </tr>\n",
       "    <tr>\n",
       "      <th>9</th>\n",
       "      <td>5229</td>\n",
       "      <td>Magick.ImageList.reject</td>\n",
       "      <td>override Enumerable's reject</td>\n",
       "    </tr>\n",
       "  </tbody>\n",
       "</table>\n",
       "</div>"
      ],
      "text/plain": [
       "   Document                                     Function  \\\n",
       "0     34424            Pandata.DataFormatter.custom_sort   \n",
       "1      3890                      Twitter.Utils.flat_pmap   \n",
       "2      3891                           Twitter.Utils.pmap   \n",
       "3     38981           TeradataExtractor.Query.enumerable   \n",
       "4     43259       Doublylinkedlist.Doublylinkedlist.each   \n",
       "5     42390                        Yargi.ElementSet.grep   \n",
       "6     42720                 MMETools.Enumerable.classify   \n",
       "7     30079               Wbem.WsmanClient.each_instance   \n",
       "8     46812  StixSchemaSpy.SimpleType.enumeration_values   \n",
       "9      5229                      Magick.ImageList.reject   \n",
       "\n",
       "                                       Documentation  \n",
       "0  Sorts alphabetically ignoring the initial 'The...  \n",
       "1  Returns a new array with the concatenated resu...  \n",
       "2  Returns a new array with the results of runnin...  \n",
       "3  returns an enumerable, each element of which i...  \n",
       "4            Método para que la lista sea enumerable  \n",
       "5                                See Enumerable.grep  \n",
       "6  Interessant iterador que classifica un enumera...  \n",
       "7                                Enumerate instances  \n",
       "8    Returns the list of values for this enumeration  \n",
       "9                       override Enumerable's reject  "
      ]
     },
     "execution_count": 21,
     "metadata": {},
     "output_type": "execute_result"
    }
   ],
   "source": [
    "search_results(\"enumerable\")"
   ]
  }
 ],
 "metadata": {
  "kernelspec": {
   "display_name": "Python 3 (ipykernel)",
   "language": "python",
   "name": "python3"
  },
  "language_info": {
   "codemirror_mode": {
    "name": "ipython",
    "version": 3
   },
   "file_extension": ".py",
   "mimetype": "text/x-python",
   "name": "python",
   "nbconvert_exporter": "python",
   "pygments_lexer": "ipython3",
   "version": "3.9.5"
  }
 },
 "nbformat": 4,
 "nbformat_minor": 5
}
